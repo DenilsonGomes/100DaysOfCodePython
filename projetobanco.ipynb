{
 "cells": [
  {
   "cell_type": "code",
   "execution_count": 1,
   "metadata": {},
   "outputs": [],
   "source": [
    "usuario_bd = \"Theo\"\n",
    "senha_bd = 12345\n",
    "\n",
    "# TODO o programa deve aceitar apenas numeros como formador de senhas \n",
    "\n",
    "def valida_acesso(usuario,senha):\n",
    "    if (usuario == usuario_bd and  senha == senha_bd):\n",
    "        print(\"Bem vindo \" + usuario)\n",
    "        print(\"---------------\")\n",
    "        funcoes_caixa(input(\"Escolha uma opção: \\nDepositar-D , Sacar-S e Finalizar-F \"))\n",
    "    else: \n",
    "        print(\"Senha ou usuario incorreto\")"
   ]
  },
  {
   "cell_type": "code",
   "execution_count": 2,
   "metadata": {},
   "outputs": [],
   "source": [
    "#TODO Concluido - letras maiusculas ou minusculas devem ser aceitas.\n",
    "\n",
    "def funcoes_caixa(opcao):\n",
    "    if (opcao.upper() == 'D'):\n",
    "        print('Função depositar')\n",
    "        funcao_depositar(int(input('Digite o valor a ser depositado: ')))\n",
    "    elif (opcao.upper() == 'S'):\n",
    "        print('Função sacar')\n",
    "        funcao_sacar(int(input('Digite o valor a ser sacado: ')))\n",
    "    elif (opcao.upper() == 'F'):\n",
    "        funcao_encerra()\n",
    "    else: \n",
    "        print('Escolha uma opção válida [D]epositar, [S]acar ou [F]inalizar')\n",
    "        funcao_encerra()\n",
    "        \n",
    "        #depositar se for S == sacar e se for F == finalizar"
   ]
  },
  {
   "cell_type": "code",
   "execution_count": 3,
   "metadata": {},
   "outputs": [],
   "source": [
    "# TODO concluido - caso coloque deposito sendo n° negativo retornar erro, pois isso é sacar\n",
    "# TODO nao permitir entrada de strigs\n",
    "\n",
    "def funcao_depositar(deposito):\n",
    "    saldo = 8000\n",
    "    if(deposito <= 0):\n",
    "        print('Valor invalido para deposito')\n",
    "        funcao_encerra()\n",
    "    else:    \n",
    "        saldo = saldo + deposito \n",
    "        print(saldo)"
   ]
  },
  {
   "cell_type": "code",
   "execution_count": 14,
   "metadata": {},
   "outputs": [],
   "source": [
    "# TODO concluido - limite de saque \n",
    "# TODO concluido - saque não pode ser superior ao da saldo da conta\n",
    "# TODO concluido - valor do saque nao pode ser negativo OU zero\n",
    "# TODO - aceitar somente numero INTEIRO\n",
    "\n",
    "def funcao_sacar(sacar):\n",
    "    saldo = 12000\n",
    "    limite_saque = 1500\n",
    "    ### 1º TODO\n",
    "    if(sacar > limite_saque):\n",
    "        print('Valor de saque não permitido, o valor máximo para esta operação é de: ' + str(limite_saque))\n",
    "        funcao_encerra()\n",
    "   ### 3º TODO     \n",
    "    elif(sacar <= 0): \n",
    "        print('Operação invalida, digite um valor positivo.')\n",
    "        funcao_encerra()\n",
    "    ### 2º TODO    \n",
    "    else:\n",
    "        if possui_saldo(saldo, sacar):\n",
    "            contagem_notas(sacar)\n",
    "            saldo = saldo - sacar\n",
    "            print('O seu saldo atual é de: '+ str(saldo))"
   ]
  },
  {
   "cell_type": "code",
   "execution_count": 5,
   "metadata": {},
   "outputs": [],
   "source": [
    "def possui_saldo(saldo, sacar):\n",
    "    if(saldo > sacar):\n",
    "        print('Possui saldo para operação')\n",
    "        return True\n",
    "    else: \n",
    "        print('Não possui saldo, seu saldo atual é de: ' + str(saldo) )\n",
    "        funcao_encerra()\n",
    "        return False\n",
    "        "
   ]
  },
  {
   "cell_type": "code",
   "execution_count": 6,
   "metadata": {},
   "outputs": [],
   "source": [
    "def funcao_encerra():\n",
    "    print('Encerrando a sessão')\n",
    "    return"
   ]
  },
  {
   "cell_type": "code",
   "execution_count": 7,
   "metadata": {},
   "outputs": [],
   "source": [
    "def contagem_notas(sacar):\n",
    "    # notas disponiveis: 200 100 50 20 10 5 2 1\n",
    "    notas_200 = 0\n",
    "    notas_100 = 0\n",
    "    notas_50 = 0\n",
    "    notas_20 = 0\n",
    "    notas_10 = 0\n",
    "    notas_5 = 0\n",
    "    notas_2 = 0\n",
    "    notas_1 = 0\n",
    "    \n",
    "    notas_200 = sacar // 200\n",
    "    sacar = sacar % 200\n",
    "    notas_100 = sacar // 100 \n",
    "    sacar = sacar % 100\n",
    "    notas_50 = sacar // 50 \n",
    "    sacar = sacar % 50\n",
    "    notas_20 = sacar // 20\n",
    "    sacar = sacar % 20\n",
    "    notas_10 = sacar // 10 \n",
    "    sacar = sacar % 10\n",
    "    notas_5 = sacar // 5 \n",
    "    sacar = sacar % 5\n",
    "    notas_2 = sacar // 2 \n",
    "    sacar = sacar % 2\n",
    "    notas_1 = sacar // 1 \n",
    "    \n",
    "    print(str(notas_200) + \" Notas de 200\")\n",
    "    print(str(notas_100) + \" Notas de 100\")\n",
    "    print(str(notas_50) + \" Notas de 50\")\n",
    "    print(str(notas_20) + \" Notas de 20\")\n",
    "    print(str(notas_10) + \" Notas de 10\")\n",
    "    print(str(notas_5) + \" Notas de 5\")\n",
    "    print(str(notas_2) + \" Notas de 2\")\n",
    "    print(str(notas_1) + \" Notas de 1\")"
   ]
  },
  {
   "cell_type": "code",
   "execution_count": 13,
   "metadata": {},
   "outputs": [
    {
     "name": "stdout",
     "output_type": "stream",
     "text": [
      "Insira seu usuario: Theo\n",
      "Insira sua senha númerica: 12345\n",
      "Bem vindo Theo\n",
      "---------------\n",
      "Escolha uma opção: \n",
      "Depositar-D , Sacar-S e Finalizar-F s\n",
      "Função sacar\n",
      "Digite o valor a ser sacado: 1000\n",
      "Não possui saldo, seu saldo atual é de: 900\n",
      "Encerrando a sessão\n"
     ]
    }
   ],
   "source": [
    "valida_acesso(input('Insira seu usuario: '), int(input('Insira sua senha númerica: ')))"
   ]
  }
 ],
 "metadata": {
  "kernelspec": {
   "display_name": "Python 3",
   "language": "python",
   "name": "python3"
  },
  "language_info": {
   "codemirror_mode": {
    "name": "ipython",
    "version": 3
   },
   "file_extension": ".py",
   "mimetype": "text/x-python",
   "name": "python",
   "nbconvert_exporter": "python",
   "pygments_lexer": "ipython3",
   "version": "3.8.5"
  }
 },
 "nbformat": 4,
 "nbformat_minor": 4
}
